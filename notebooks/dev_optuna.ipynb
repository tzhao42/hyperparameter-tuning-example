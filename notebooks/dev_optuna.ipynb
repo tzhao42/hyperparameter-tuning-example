{
 "cells": [
  {
   "cell_type": "markdown",
   "metadata": {},
   "source": [
    "# Hyperparameter Tuning with `optuna`\n",
    "\n",
    "Run this notebook with `env_optuna`."
   ]
  },
  {
   "cell_type": "markdown",
   "metadata": {},
   "source": [
    "## Basic training script\n",
    "\n",
    "Classify images from the CIFAR10 dataset. We look at the effect of batch size, learning rate, and momentum."
   ]
  },
  {
   "cell_type": "code",
   "execution_count": 1,
   "metadata": {},
   "outputs": [],
   "source": [
    "import torch\n",
    "import torch.nn as nn\n",
    "import torch.nn.functional as F\n",
    "import torch.optim as optim\n",
    "\n",
    "import torchvision\n",
    "import torchvision.transforms as transforms"
   ]
  },
  {
   "cell_type": "code",
   "execution_count": 2,
   "metadata": {},
   "outputs": [],
   "source": [
    "DATA_PATH = \"/home/tzhao/Workspace/hyperparameter-tuning-example/data\"\n",
    "NUM_EPOCHS = 4\n",
    "DEVICE = \"cpu\""
   ]
  },
  {
   "cell_type": "code",
   "execution_count": 3,
   "metadata": {},
   "outputs": [],
   "source": [
    "class Net(nn.Module):\n",
    "    def __init__(self):\n",
    "        super().__init__()\n",
    "        self.conv1 = nn.Conv2d(3, 6, 5)\n",
    "        self.pool = nn.MaxPool2d(2, 2)\n",
    "        self.conv2 = nn.Conv2d(6, 16, 5)\n",
    "        self.fc1 = nn.Linear(16 * 5 * 5, 120)\n",
    "        self.fc2 = nn.Linear(120, 84)\n",
    "        self.fc3 = nn.Linear(84, 10)\n",
    "\n",
    "    def forward(self, x):\n",
    "        x = self.pool(F.relu(self.conv1(x)))\n",
    "        x = self.pool(F.relu(self.conv2(x)))\n",
    "        x = torch.flatten(x, 1) # flatten all dimensions except batch\n",
    "        x = F.relu(self.fc1(x))\n",
    "        x = F.relu(self.fc2(x))\n",
    "        x = self.fc3(x)\n",
    "        return x\n",
    "\n",
    "def train(batch_size, lr, momentum, verbose=True, download=True):\n",
    "    # Load dataset\n",
    "    transform = transforms.Compose([\n",
    "        transforms.ToTensor(),\n",
    "        transforms.Normalize((0.5, 0.5, 0.5), (0.5, 0.5, 0.5))\n",
    "    ])\n",
    "\n",
    "    trainset = torchvision.datasets.CIFAR10(root=DATA_PATH, train=True, download=download, transform=transform)\n",
    "    trainloader = torch.utils.data.DataLoader(trainset, batch_size=batch_size, shuffle=True)\n",
    "\n",
    "    testset = torchvision.datasets.CIFAR10(root=DATA_PATH, train=False, download=download, transform=transform)\n",
    "    testloader = torch.utils.data.DataLoader(testset, batch_size=batch_size, shuffle=False)\n",
    "\n",
    "    # Load nn\n",
    "    net = Net().to(DEVICE)\n",
    "\n",
    "    # Load loss and optimizer\n",
    "    criterion = nn.CrossEntropyLoss()\n",
    "    optimizer = optim.SGD(net.parameters(), lr=lr, momentum=momentum)\n",
    "    \n",
    "    # Train\n",
    "    for epoch in range(NUM_EPOCHS):\n",
    "        \n",
    "        # Train single epoch\n",
    "        for data in trainloader:\n",
    "            inputs, labels = data[0].to(DEVICE), data[1].to(DEVICE)\n",
    "            optimizer.zero_grad()\n",
    "            outputs = net(inputs)\n",
    "            loss = criterion(outputs, labels)\n",
    "            loss.backward()\n",
    "            optimizer.step()\n",
    "        \n",
    "        # Test\n",
    "        test_loss = 0\n",
    "        total = 0\n",
    "        correct = 0\n",
    "        with torch.no_grad():\n",
    "            for data in testloader:\n",
    "                inputs, labels = data[0].to(DEVICE), data[1].to(DEVICE)\n",
    "                outputs = net(inputs)\n",
    "\n",
    "                # Get test loss\n",
    "                loss = criterion(outputs, labels)\n",
    "                test_loss += loss.item()\n",
    "\n",
    "                # Get test acc\n",
    "                _, predicted = torch.max(outputs.data, 1)\n",
    "                total += labels.size(0)\n",
    "                correct += (predicted == labels).sum().item()\n",
    "        test_acc = correct / total\n",
    "\n",
    "        if verbose:\n",
    "            print(f\"Epoch {epoch}: Test loss: {test_loss:.2f}\")\n",
    "            print(f\"Epoch {epoch}: Test acc: {test_acc:.2f}\")\n",
    "\n",
    "    if verbose:\n",
    "        print(\"Training completed.\")\n",
    "        print(f\"Final test loss: {test_loss:.2f}\")\n",
    "        print(f\"Final test acc: {test_acc:.2f}\")\n",
    "    \n",
    "    return test_acc"
   ]
  },
  {
   "cell_type": "code",
   "execution_count": 4,
   "metadata": {},
   "outputs": [
    {
     "name": "stdout",
     "output_type": "stream",
     "text": [
      "Epoch 0: Test loss: 3650.72\n",
      "Epoch 0: Test acc: 0.47\n",
      "Epoch 1: Test loss: 3196.43\n",
      "Epoch 1: Test acc: 0.54\n",
      "Epoch 2: Test loss: 2992.61\n",
      "Epoch 2: Test acc: 0.57\n",
      "Epoch 3: Test loss: 3002.47\n",
      "Epoch 3: Test acc: 0.58\n",
      "Training completed.\n",
      "Final test loss: 3002.47\n",
      "Final test acc: 0.58\n"
     ]
    },
    {
     "data": {
      "text/plain": [
       "0.5778"
      ]
     },
     "execution_count": 4,
     "metadata": {},
     "output_type": "execute_result"
    }
   ],
   "source": [
    "train(batch_size=4, lr=0.001, momentum=0.9, download=False)"
   ]
  },
  {
   "cell_type": "code",
   "execution_count": 5,
   "metadata": {},
   "outputs": [
    {
     "name": "stdout",
     "output_type": "stream",
     "text": [
      "Epoch 0: Test loss: 181.50\n",
      "Epoch 0: Test acc: 0.11\n",
      "Epoch 1: Test loss: 179.16\n",
      "Epoch 1: Test acc: 0.16\n",
      "Epoch 2: Test loss: 164.21\n",
      "Epoch 2: Test acc: 0.24\n",
      "Epoch 3: Test loss: 151.82\n",
      "Epoch 3: Test acc: 0.30\n",
      "Training completed.\n",
      "Final test loss: 151.82\n",
      "Final test acc: 0.30\n"
     ]
    },
    {
     "data": {
      "text/plain": [
       "0.3039"
      ]
     },
     "execution_count": 5,
     "metadata": {},
     "output_type": "execute_result"
    }
   ],
   "source": [
    "train(batch_size=128, lr=0.001, momentum=0.9, download=False)"
   ]
  },
  {
   "cell_type": "markdown",
   "metadata": {},
   "source": [
    "## Hyperparameter tuning with `optuna`"
   ]
  },
  {
   "cell_type": "code",
   "execution_count": 6,
   "metadata": {},
   "outputs": [],
   "source": [
    "import optuna\n",
    "from optuna.trial import TrialState"
   ]
  },
  {
   "cell_type": "code",
   "execution_count": 7,
   "metadata": {},
   "outputs": [],
   "source": [
    "def train_optuna(trial):\n",
    "\n",
    "    #########################################\n",
    "    ##### OPTUNA: Initialize parameters #####\n",
    "    #########################################\n",
    "\n",
    "    batch_size=trial.suggest_int(\"batch_size\", 4, 128)\n",
    "    lr=trial.suggest_float(\"lr\", 1e-5, 1e-1, log=True) # uniform probability in log space\n",
    "    momentum=trial.suggest_float(\"momentum\", 0.1, 0.99)\n",
    "    verbose = False\n",
    "    download = False\n",
    "\n",
    "    #########################################\n",
    "    #########################################\n",
    "    #########################################\n",
    "\n",
    "    # Load dataset\n",
    "    transform = transforms.Compose([\n",
    "        transforms.ToTensor(),\n",
    "        transforms.Normalize((0.5, 0.5, 0.5), (0.5, 0.5, 0.5))\n",
    "    ])\n",
    "\n",
    "    trainset = torchvision.datasets.CIFAR10(root=DATA_PATH, train=True, download=download, transform=transform)\n",
    "    trainloader = torch.utils.data.DataLoader(trainset, batch_size=batch_size, shuffle=True)\n",
    "\n",
    "    testset = torchvision.datasets.CIFAR10(root=DATA_PATH, train=False, download=download, transform=transform)\n",
    "    testloader = torch.utils.data.DataLoader(testset, batch_size=batch_size, shuffle=False)\n",
    "\n",
    "    # Load nn\n",
    "    net = Net().to(DEVICE)\n",
    "\n",
    "    # Load loss and optimizer\n",
    "    criterion = nn.CrossEntropyLoss()\n",
    "    optimizer = optim.SGD(net.parameters(), lr=lr, momentum=momentum)\n",
    "    \n",
    "    # Train\n",
    "    for epoch in range(NUM_EPOCHS):\n",
    "        \n",
    "        # Train single epoch\n",
    "        for data in trainloader:\n",
    "            inputs, labels = data[0].to(DEVICE), data[1].to(DEVICE)\n",
    "            optimizer.zero_grad()\n",
    "            outputs = net(inputs)\n",
    "            loss = criterion(outputs, labels)\n",
    "            loss.backward()\n",
    "            optimizer.step()\n",
    "        \n",
    "        # Test\n",
    "        test_loss = 0\n",
    "        total = 0\n",
    "        correct = 0\n",
    "        with torch.no_grad():\n",
    "            for data in testloader:\n",
    "                inputs, labels = data[0].to(DEVICE), data[1].to(DEVICE)\n",
    "                outputs = net(inputs)\n",
    "\n",
    "                # Get test loss\n",
    "                loss = criterion(outputs, labels)\n",
    "                test_loss += loss.item()\n",
    "\n",
    "                # Get test acc\n",
    "                _, predicted = torch.max(outputs.data, 1)\n",
    "                total += labels.size(0)\n",
    "                correct += (predicted == labels).sum().item()\n",
    "        test_acc = correct / total\n",
    "\n",
    "        if verbose:\n",
    "            print(f\"Epoch {epoch}: Test loss: {test_loss:.2f}\")\n",
    "            print(f\"Epoch {epoch}: Test acc: {test_acc:.2f}\")\n",
    "\n",
    "        #######################################################\n",
    "        ##### OPTUNA: Report test loss and handle pruning #####\n",
    "        #######################################################\n",
    "\n",
    "        trial.report(test_acc, epoch)\n",
    "\n",
    "        # Handle pruning based on the intermediate value.\n",
    "        if trial.should_prune():\n",
    "            raise optuna.TrialPruned()\n",
    "\n",
    "        #######################################################\n",
    "        #######################################################\n",
    "        #######################################################\n",
    "\n",
    "    if verbose:\n",
    "        print(\"Training completed.\")\n",
    "        print(f\"Final test loss: {test_loss:.2f}\")\n",
    "        print(f\"Final test acc: {test_acc:.2f}\")\n",
    "    \n",
    "    return test_acc"
   ]
  },
  {
   "cell_type": "code",
   "execution_count": 8,
   "metadata": {},
   "outputs": [
    {
     "name": "stderr",
     "output_type": "stream",
     "text": [
      "[I 2023-07-21 07:43:59,186] A new study created in memory with name: no-name-6db2cdca-c65e-4fec-83eb-fe9ed2ebf217\n",
      "[I 2023-07-21 07:44:34,193] Trial 0 finished with value: 0.1 and parameters: {'batch_size': 62, 'lr': 0.00010171654322735485, 'momentum': 0.3210127210065065}. Best is trial 0 with value: 0.1.\n",
      "[I 2023-07-21 07:45:10,864] Trial 1 finished with value: 0.5849 and parameters: {'batch_size': 41, 'lr': 0.0027335863991340766, 'momentum': 0.9534029792195253}. Best is trial 1 with value: 0.5849.\n",
      "[I 2023-07-21 07:45:50,836] Trial 2 finished with value: 0.1 and parameters: {'batch_size': 28, 'lr': 8.75442190148393e-05, 'momentum': 0.20748796316715568}. Best is trial 1 with value: 0.5849.\n",
      "[I 2023-07-21 07:46:26,054] Trial 3 finished with value: 0.1 and parameters: {'batch_size': 55, 'lr': 1.3806462702311849e-05, 'momentum': 0.6777786611322322}. Best is trial 1 with value: 0.5849.\n",
      "[I 2023-07-21 07:47:02,180] Trial 4 finished with value: 0.1 and parameters: {'batch_size': 46, 'lr': 5.226613714815604e-05, 'momentum': 0.6690923201702367}. Best is trial 1 with value: 0.5849.\n",
      "[I 2023-07-21 07:47:40,274] Trial 5 finished with value: 0.1339 and parameters: {'batch_size': 35, 'lr': 7.910403315548131e-05, 'momentum': 0.8705074419725077}. Best is trial 1 with value: 0.5849.\n",
      "[I 2023-07-21 07:48:14,240] Trial 6 finished with value: 0.5157 and parameters: {'batch_size': 84, 'lr': 0.0030606203561277597, 'momentum': 0.9137638721309748}. Best is trial 1 with value: 0.5849.\n",
      "[I 2023-07-21 07:49:12,656] Trial 7 finished with value: 0.1 and parameters: {'batch_size': 9, 'lr': 0.040818015966325116, 'momentum': 0.8344475161259338}. Best is trial 1 with value: 0.5849.\n"
     ]
    }
   ],
   "source": [
    "# Maximize accuracy, given some constraints\n",
    "study = optuna.create_study(direction=\"maximize\")\n",
    "study.optimize(\n",
    "    train_optuna,\n",
    "    n_trials=None, # No limit to number of trials\n",
    "    timeout=300, # Time limit of 5 minutes\n",
    ")"
   ]
  },
  {
   "cell_type": "code",
   "execution_count": 9,
   "metadata": {},
   "outputs": [
    {
     "name": "stdout",
     "output_type": "stream",
     "text": [
      "Study statistics: \n",
      "Number of finished trials:  8\n",
      "Number of pruned trials:  0\n",
      "Number of complete trials:  8\n"
     ]
    }
   ],
   "source": [
    "# Print some statistics about trials\n",
    "pruned_trials = study.get_trials(deepcopy=False, states=[TrialState.PRUNED])\n",
    "complete_trials = study.get_trials(deepcopy=False, states=[TrialState.COMPLETE])\n",
    "\n",
    "print(\"Study statistics: \")\n",
    "print(\"Number of finished trials: \", len(study.trials))\n",
    "print(\"Number of pruned trials: \", len(pruned_trials))\n",
    "print(\"Number of complete trials: \", len(complete_trials))"
   ]
  },
  {
   "cell_type": "code",
   "execution_count": 10,
   "metadata": {},
   "outputs": [
    {
     "name": "stdout",
     "output_type": "stream",
     "text": [
      "Best trial:\n",
      "Value: 0.5849\n",
      "Params:\n",
      "    batch_size: 41\n",
      "    lr: 0.0027335863991340766\n",
      "    momentum: 0.9534029792195253\n"
     ]
    }
   ],
   "source": [
    "# Print the best trial\n",
    "trial = study.best_trial\n",
    "print(\"Best trial:\")\n",
    "print(\"Value:\", study.best_trial.value)\n",
    "print(\"Params:\")\n",
    "for key, value in study.best_trial.params.items():\n",
    "    print(\"    {}: {}\".format(key, value))"
   ]
  }
 ],
 "metadata": {
  "kernelspec": {
   "display_name": "optuna_env",
   "language": "python",
   "name": "python3"
  },
  "language_info": {
   "codemirror_mode": {
    "name": "ipython",
    "version": 3
   },
   "file_extension": ".py",
   "mimetype": "text/x-python",
   "name": "python",
   "nbconvert_exporter": "python",
   "pygments_lexer": "ipython3",
   "version": "3.8.10"
  },
  "orig_nbformat": 4
 },
 "nbformat": 4,
 "nbformat_minor": 2
}

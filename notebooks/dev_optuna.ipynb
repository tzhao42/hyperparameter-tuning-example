{
 "cells": [
  {
   "cell_type": "markdown",
   "metadata": {},
   "source": [
    "# Hyperparameter Tuning with `optuna`\n",
    "\n",
    "Run this notebook with `env_optuna`."
   ]
  },
  {
   "cell_type": "markdown",
   "metadata": {},
   "source": [
    "## Basic training script\n",
    "\n",
    "Classify images from the CIFAR10 dataset. We look at the effect of batch size, learning rate, and momentum."
   ]
  },
  {
   "cell_type": "code",
   "execution_count": null,
   "metadata": {},
   "outputs": [],
   "source": [
    "import torch\n",
    "import torch.nn as nn\n",
    "import torch.nn.functional as F\n",
    "import torch.optim as optim\n",
    "\n",
    "import torchvision\n",
    "import torchvision.transforms as transforms"
   ]
  },
  {
   "cell_type": "code",
   "execution_count": null,
   "metadata": {},
   "outputs": [],
   "source": [
    "DATA_PATH = \"/home/tzhao/Workspace/hyperparameter-tuning-example/data\"\n",
    "NUM_EPOCHS = 4\n",
    "DEVICE = \"cuda\""
   ]
  },
  {
   "cell_type": "code",
   "execution_count": null,
   "metadata": {},
   "outputs": [],
   "source": [
    "class Net(nn.Module):\n",
    "    def __init__(self):\n",
    "        super().__init__()\n",
    "        self.conv1 = nn.Conv2d(3, 6, 5)\n",
    "        self.pool = nn.MaxPool2d(2, 2)\n",
    "        self.conv2 = nn.Conv2d(6, 16, 5)\n",
    "        self.fc1 = nn.Linear(16 * 5 * 5, 120)\n",
    "        self.fc2 = nn.Linear(120, 84)\n",
    "        self.fc3 = nn.Linear(84, 10)\n",
    "\n",
    "    def forward(self, x):\n",
    "        x = self.pool(F.relu(self.conv1(x)))\n",
    "        x = self.pool(F.relu(self.conv2(x)))\n",
    "        x = torch.flatten(x, 1) # flatten all dimensions except batch\n",
    "        x = F.relu(self.fc1(x))\n",
    "        x = F.relu(self.fc2(x))\n",
    "        x = self.fc3(x)\n",
    "        return x\n",
    "\n",
    "def train(batch_size, lr, momentum, verbose=True, download=True):\n",
    "    # Load dataset\n",
    "    transform = transforms.Compose([\n",
    "        transforms.ToTensor(),\n",
    "        transforms.Normalize((0.5, 0.5, 0.5), (0.5, 0.5, 0.5))\n",
    "    ])\n",
    "\n",
    "    trainset = torchvision.datasets.CIFAR10(root=DATA_PATH, train=True, download=download, transform=transform)\n",
    "    trainloader = torch.utils.data.DataLoader(trainset, batch_size=batch_size, shuffle=True)\n",
    "\n",
    "    testset = torchvision.datasets.CIFAR10(root=DATA_PATH, train=False, download=download, transform=transform)\n",
    "    testloader = torch.utils.data.DataLoader(testset, batch_size=batch_size, shuffle=False)\n",
    "\n",
    "    # Load nn\n",
    "    net = Net().to(DEVICE)\n",
    "\n",
    "    # Load loss and optimizer\n",
    "    criterion = nn.CrossEntropyLoss()\n",
    "    optimizer = optim.SGD(net.parameters(), lr=lr, momentum=momentum)\n",
    "    \n",
    "    # Train\n",
    "    for epoch in range(NUM_EPOCHS):\n",
    "        \n",
    "        # Train single epoch\n",
    "        for data in trainloader:\n",
    "            inputs, labels = data[0].to(DEVICE), data[1].to(DEVICE)\n",
    "            optimizer.zero_grad()\n",
    "            outputs = net(inputs)\n",
    "            loss = criterion(outputs, labels)\n",
    "            loss.backward()\n",
    "            optimizer.step()\n",
    "        \n",
    "        # Test\n",
    "        test_loss = 0\n",
    "        total = 0\n",
    "        correct = 0\n",
    "        with torch.no_grad():\n",
    "            for data in testloader:\n",
    "                inputs, labels = data[0].to(DEVICE), data[1].to(DEVICE)\n",
    "                outputs = net(inputs)\n",
    "\n",
    "                # Get test loss\n",
    "                loss = criterion(outputs, labels)\n",
    "                test_loss += loss.item()\n",
    "\n",
    "                # Get test acc\n",
    "                _, predicted = torch.max(outputs.data, 1)\n",
    "                total += labels.size(0)\n",
    "                correct += (predicted == labels).sum().item()\n",
    "        test_acc = correct / total\n",
    "\n",
    "        if verbose:\n",
    "            print(f\"Epoch {epoch}: Test loss: {test_loss:.2f}\")\n",
    "            print(f\"Epoch {epoch}: Test acc: {test_acc:.2f}\")\n",
    "\n",
    "    if verbose:\n",
    "        print(\"Training completed.\")\n",
    "        print(f\"Final test loss: {test_loss:.2f}\")\n",
    "        print(f\"Final test acc: {test_acc:.2f}\")\n",
    "    \n",
    "    return test_acc"
   ]
  },
  {
   "cell_type": "code",
   "execution_count": null,
   "metadata": {},
   "outputs": [],
   "source": [
    "# If dataset not already downloaded, set download=True\n",
    "# train(batch_size=4, lr=0.001, momentum=0.9, download=False)"
   ]
  },
  {
   "cell_type": "markdown",
   "metadata": {},
   "source": [
    "Sample output:\n",
    "```\n",
    "Epoch 0: Test loss: 3574.23\n",
    "Epoch 0: Test acc: 0.48\n",
    "Epoch 1: Test loss: 3145.86\n",
    "Epoch 1: Test acc: 0.55\n",
    "Epoch 2: Test loss: 2963.67\n",
    "Epoch 2: Test acc: 0.58\n",
    "Epoch 3: Test loss: 2942.21\n",
    "Epoch 3: Test acc: 0.59\n",
    "Training completed.\n",
    "Final test loss: 2942.21\n",
    "Final test acc: 0.59\n",
    "```"
   ]
  },
  {
   "cell_type": "code",
   "execution_count": 1,
   "metadata": {},
   "outputs": [],
   "source": [
    "# train(batch_size=128, lr=0.001, momentum=0.9, download=False)"
   ]
  },
  {
   "cell_type": "markdown",
   "metadata": {},
   "source": [
    "Sample output:\n",
    "```\n",
    "Epoch 0: Test loss: 181.68\n",
    "Epoch 0: Test acc: 0.13\n",
    "Epoch 1: Test loss: 180.70\n",
    "Epoch 1: Test acc: 0.13\n",
    "Epoch 2: Test loss: 174.24\n",
    "Epoch 2: Test acc: 0.20\n",
    "Epoch 3: Test loss: 162.89\n",
    "Epoch 3: Test acc: 0.25\n",
    "Training completed.\n",
    "Final test loss: 162.89\n",
    "Final test acc: 0.25\n",
    "```"
   ]
  },
  {
   "cell_type": "markdown",
   "metadata": {},
   "source": [
    "Increasing batch size seems to give us worse accuracy, but is desirable because it runs faster. Can we get the bet of both worlds with hyperparameter tuning?"
   ]
  },
  {
   "cell_type": "markdown",
   "metadata": {},
   "source": [
    "## Hyperparameter tuning with `optuna`"
   ]
  },
  {
   "cell_type": "code",
   "execution_count": null,
   "metadata": {},
   "outputs": [],
   "source": [
    "import optuna\n",
    "from optuna.trial import TrialState"
   ]
  },
  {
   "cell_type": "code",
   "execution_count": null,
   "metadata": {},
   "outputs": [],
   "source": [
    "def train_optuna(trial):\n",
    "\n",
    "    #########################################\n",
    "    ##### OPTUNA: Initialize parameters #####\n",
    "    #########################################\n",
    "\n",
    "    batch_size=trial.suggest_int(\"batch_size\", 4, 128)\n",
    "    lr=trial.suggest_float(\"lr\", 1e-5, 1e-1)\n",
    "    momentum=trial.suggest_float(\"momentum\", 0.1, 0.99)\n",
    "    verbose = False\n",
    "    download = False\n",
    "\n",
    "    #########################################\n",
    "    #########################################\n",
    "    #########################################\n",
    "\n",
    "    # Load dataset\n",
    "    transform = transforms.Compose([\n",
    "        transforms.ToTensor(),\n",
    "        transforms.Normalize((0.5, 0.5, 0.5), (0.5, 0.5, 0.5))\n",
    "    ])\n",
    "\n",
    "    trainset = torchvision.datasets.CIFAR10(root=DATA_PATH, train=True, download=download, transform=transform)\n",
    "    trainloader = torch.utils.data.DataLoader(trainset, batch_size=batch_size, shuffle=True)\n",
    "\n",
    "    testset = torchvision.datasets.CIFAR10(root=DATA_PATH, train=False, download=download, transform=transform)\n",
    "    testloader = torch.utils.data.DataLoader(testset, batch_size=batch_size, shuffle=False)\n",
    "\n",
    "    # Load nn\n",
    "    net = Net().to(DEVICE)\n",
    "\n",
    "    # Load loss and optimizer\n",
    "    criterion = nn.CrossEntropyLoss()\n",
    "    optimizer = optim.SGD(net.parameters(), lr=lr, momentum=momentum)\n",
    "    \n",
    "    # Train\n",
    "    for epoch in range(NUM_EPOCHS):\n",
    "        \n",
    "        # Train single epoch\n",
    "        for data in trainloader:\n",
    "            inputs, labels = data[0].to(DEVICE), data[1].to(DEVICE)\n",
    "            optimizer.zero_grad()\n",
    "            outputs = net(inputs)\n",
    "            loss = criterion(outputs, labels)\n",
    "            loss.backward()\n",
    "            optimizer.step()\n",
    "        \n",
    "        # Test\n",
    "        test_loss = 0\n",
    "        total = 0\n",
    "        correct = 0\n",
    "        with torch.no_grad():\n",
    "            for data in testloader:\n",
    "                inputs, labels = data[0].to(DEVICE), data[1].to(DEVICE)\n",
    "                outputs = net(inputs)\n",
    "\n",
    "                # Get test loss\n",
    "                loss = criterion(outputs, labels)\n",
    "                test_loss += loss.item()\n",
    "\n",
    "                # Get test acc\n",
    "                _, predicted = torch.max(outputs.data, 1)\n",
    "                total += labels.size(0)\n",
    "                correct += (predicted == labels).sum().item()\n",
    "        test_acc = correct / total\n",
    "\n",
    "        if verbose:\n",
    "            print(f\"Epoch {epoch}: Test loss: {test_loss:.2f}\")\n",
    "            print(f\"Epoch {epoch}: Test acc: {test_acc:.2f}\")\n",
    "\n",
    "        #######################################################\n",
    "        ##### OPTUNA: Report test loss and handle pruning #####\n",
    "        #######################################################\n",
    "\n",
    "        trial.report(test_acc, epoch)\n",
    "\n",
    "        # Handle pruning based on the intermediate value.\n",
    "        if trial.should_prune():\n",
    "            raise optuna.TrialPruned()\n",
    "\n",
    "        #######################################################\n",
    "        #######################################################\n",
    "        #######################################################\n",
    "\n",
    "    if verbose:\n",
    "        print(\"Training completed.\")\n",
    "        print(f\"Final test loss: {test_loss:.2f}\")\n",
    "        print(f\"Final test acc: {test_acc:.2f}\")\n",
    "    \n",
    "    return test_acc"
   ]
  },
  {
   "cell_type": "code",
   "execution_count": null,
   "metadata": {},
   "outputs": [],
   "source": [
    "# Maximize accuracy, given some constraints\n",
    "study = optuna.create_study(direction=\"maximize\")\n",
    "study.optimize(\n",
    "    train_optuna,\n",
    "    n_trials=None, # No limit to number of trials\n",
    "    timeout=300, # Time limit of 5 minutes\n",
    ")"
   ]
  },
  {
   "cell_type": "code",
   "execution_count": null,
   "metadata": {},
   "outputs": [],
   "source": [
    "# Print some statistics about trials\n",
    "pruned_trials = study.get_trials(deepcopy=False, states=[TrialState.PRUNED])\n",
    "complete_trials = study.get_trials(deepcopy=False, states=[TrialState.COMPLETE])\n",
    "\n",
    "print(\"Study statistics: \")\n",
    "print(\"Number of finished trials: \", len(study.trials))\n",
    "print(\"Number of pruned trials: \", len(pruned_trials))\n",
    "print(\"Number of complete trials: \", len(complete_trials))"
   ]
  },
  {
   "cell_type": "code",
   "execution_count": null,
   "metadata": {},
   "outputs": [],
   "source": [
    "# Print the best trial\n",
    "trial = study.best_trial\n",
    "print(\"Best trial:\")\n",
    "print(\"Value:\", study.best_trial.value)\n",
    "print(\"Params:\")\n",
    "for key, value in study.best_trial.params.items():\n",
    "    print(\"    {}: {}\".format(key, value))"
   ]
  }
 ],
 "metadata": {
  "kernelspec": {
   "display_name": "optuna_env",
   "language": "python",
   "name": "python3"
  },
  "language_info": {
   "codemirror_mode": {
    "name": "ipython",
    "version": 3
   },
   "file_extension": ".py",
   "mimetype": "text/x-python",
   "name": "python",
   "nbconvert_exporter": "python",
   "pygments_lexer": "ipython3",
   "version": "3.8.10"
  },
  "orig_nbformat": 4
 },
 "nbformat": 4,
 "nbformat_minor": 2
}
